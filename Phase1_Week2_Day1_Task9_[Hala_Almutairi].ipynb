{
  "nbformat": 4,
  "nbformat_minor": 0,
  "metadata": {
    "colab": {
      "provenance": [],
      "collapsed_sections": [
        "507L6zO0xok2",
        "9Y0pVnmzyvQM",
        "8pBDr2LmzFI_",
        "6FhKQxr4z9gW",
        "brYX3JGl10sx",
        "aR0b-ufk4nwc",
        "VRCn544B46Hn",
        "j9ukW7KL5C7R"
      ]
    },
    "kernelspec": {
      "name": "python3",
      "display_name": "Python 3"
    },
    "language_info": {
      "name": "python"
    },
    "accelerator": "GPU"
  },
  "cells": [
    {
      "cell_type": "markdown",
      "source": [
        "![0.jpg](data:image/jpeg;base64,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)"
      ],
      "metadata": {
        "id": "-5XSAN6CJjo4"
      }
    },
    {
      "cell_type": "markdown",
      "source": [
        "# **Task9:Libraries**\n",
        "\n"
      ],
      "metadata": {
        "id": "0ImE-Uv5yZXn"
      }
    },
    {
      "cell_type": "markdown",
      "source": [
        "*  Log In to **Your Google Account**.\n",
        "*  Create a New Notebook in the Path **Coded/Phase1/Week2/Day1**.\n",
        "*  Rename the Notebook to **Phase1-Week2-Day1-Task9[YourName]**."
      ],
      "metadata": {
        "id": "7Hm8GG8bB0ov"
      }
    },
    {
      "cell_type": "markdown",
      "source": [
        "--------------------------------------------------------------------------------"
      ],
      "metadata": {
        "id": "wF73tcwtsBFx"
      }
    },
    {
      "cell_type": "markdown",
      "source": [
        "**Apply the concepts we've learned to tackle this task and discover the solution!**\n"
      ],
      "metadata": {
        "id": "cBwPEitpHwff"
      }
    },
    {
      "cell_type": "markdown",
      "source": [
        "1. Write the code to calculate the `area` of a circle using the math library, given a radius of `5`.\n",
        "\n",
        "2. Using `math.fabs` to find the absolute value of the number `-7.5`.\n",
        "\n",
        "3. Write the code to calculate the cosine of an angle of `π/2` using the math library.\n",
        "\n",
        "4. How can you use the `map()` function in Python to round the floating-point numbers in the list\n",
        "```\n",
        "list1 = [5.58, -8.02, 6.36, -7.05, 8.22, 0.64, 4.71, -5.029]\n",
        "```\n",
        " to the nearest integer using `math.ceil` and a `lambda` function? Please provide the complete code implementation.\n",
        "\n",
        "5. How can you use the `map()` function with a `lambda` function in Python to find the `square roots` of the numbers in the list\n",
        "```\n",
        "list2 = [10, 22, 30, 44, 15, 26, 47, 18, 89, 110]\n",
        "```\n",
        " using `math.sqrt`? Please give me the complete code."
      ],
      "metadata": {
        "id": "fCd25A19oP-D"
      }
    },
    {
      "cell_type": "markdown",
      "source": [
        "6. How do you calculate the number of days between two dates, `d1='2023-1-1'` and `d2='2026-8-8'`? Provide the code.\n",
        "\n",
        "\n",
        "7. How can you add `18` days to the date `d3=\"2025-5-5\"` using `timedelta`? Show the code.\n",
        "\n",
        "\n",
        "8. How do you find the `day name` of the week for the date `d4=\"2027-11-11\"` using the `weekday()` method? Provide the code.\n"
      ],
      "metadata": {
        "id": "RuRwyzhT6Akf"
      }
    },
    {
      "cell_type": "markdown",
      "source": [
        "--------------------------------------------------------------------------------"
      ],
      "metadata": {
        "id": "JMeHtHuZtCeu"
      }
    },
    {
      "cell_type": "markdown",
      "source": [
        "* **Submit The Notebook**\n"
      ],
      "metadata": {
        "id": "nEf_PMv8qHWp"
      }
    },
    {
      "cell_type": "markdown",
      "source": [
        "#**SOL**"
      ],
      "metadata": {
        "id": "fXGzDrTZxkRw"
      }
    },
    {
      "cell_type": "code",
      "source": [
        "import math\n",
        "import datetime\n",
        "import calendar"
      ],
      "metadata": {
        "id": "0oxqqqzexxT_"
      },
      "execution_count": null,
      "outputs": []
    },
    {
      "cell_type": "markdown",
      "source": [
        "###1 Write the code to calculate the area of a circle using the math library, given a radius of 5."
      ],
      "metadata": {
        "id": "507L6zO0xok2"
      }
    },
    {
      "cell_type": "code",
      "source": [
        "area = math.pi * math.pow(5,2)\n",
        "print(area)"
      ],
      "metadata": {
        "colab": {
          "base_uri": "https://localhost:8080/"
        },
        "id": "DW6Y8MMnxnr5",
        "outputId": "c131930b-9fa6-483c-d824-a31e1e1f1bef"
      },
      "execution_count": null,
      "outputs": [
        {
          "output_type": "stream",
          "name": "stdout",
          "text": [
            "78.53981633974483\n"
          ]
        }
      ]
    },
    {
      "cell_type": "markdown",
      "source": [
        "###2 Using math.fabs to find the absolute value of the number -7.5."
      ],
      "metadata": {
        "id": "9Y0pVnmzyvQM"
      }
    },
    {
      "cell_type": "code",
      "source": [
        "math.fabs(-7.5)"
      ],
      "metadata": {
        "colab": {
          "base_uri": "https://localhost:8080/"
        },
        "id": "r0x0TJy3y0TV",
        "outputId": "4e01057a-54ab-4a32-fb15-0534e8ff0a8b"
      },
      "execution_count": null,
      "outputs": [
        {
          "output_type": "execute_result",
          "data": {
            "text/plain": [
              "7.5"
            ]
          },
          "metadata": {},
          "execution_count": 235
        }
      ]
    },
    {
      "cell_type": "markdown",
      "source": [
        "###3 Write the code to calculate the cosine of an angle of π/2 using the math library."
      ],
      "metadata": {
        "id": "8pBDr2LmzFI_"
      }
    },
    {
      "cell_type": "code",
      "source": [
        "angle = math.pi / 2\n",
        "math.cos(angle)"
      ],
      "metadata": {
        "colab": {
          "base_uri": "https://localhost:8080/"
        },
        "id": "owmzdzsyzIfO",
        "outputId": "5fbe4d69-3c4f-42a3-d007-3ad10480bfd9"
      },
      "execution_count": null,
      "outputs": [
        {
          "output_type": "execute_result",
          "data": {
            "text/plain": [
              "6.123233995736766e-17"
            ]
          },
          "metadata": {},
          "execution_count": 236
        }
      ]
    },
    {
      "cell_type": "markdown",
      "source": [
        "###4  How can you use the `map()` function in Python to round the floating-point numbers in the list\n",
        "```\n",
        "list1 = [5.58, -8.02, 6.36, -7.05, 8.22, 0.64, 4.71, -5.029]\n",
        "```\n",
        "### to the nearest integer using `math.ceil` and a `lambda` function? Please provide the complete code implementation.\n"
      ],
      "metadata": {
        "id": "6FhKQxr4z9gW"
      }
    },
    {
      "cell_type": "code",
      "source": [
        "#map(lambda parameter: expression, iterable)\n",
        "\n",
        "list1 = [5.58, -8.02, 6.36, -7.05, 8.22, 0.64, 4.71, -5.029]\n",
        "#list1 = list(map(int,list1)) Direct way to solve it\n",
        "list1 = list(map(lambda num: math.ceil(num), list1)) #Selfnote map doesnt return value its return map obj ==> list needed to iterate obj\n",
        "print(list1)"
      ],
      "metadata": {
        "colab": {
          "base_uri": "https://localhost:8080/"
        },
        "id": "xd4tpOMq0ABz",
        "outputId": "814b84a4-e3c2-4b72-86eb-443a215e7438"
      },
      "execution_count": null,
      "outputs": [
        {
          "output_type": "stream",
          "name": "stdout",
          "text": [
            "[6, -8, 7, -7, 9, 1, 5, -5]\n"
          ]
        }
      ]
    },
    {
      "cell_type": "markdown",
      "source": [
        "###5  How can you use the `map()` function with a `lambda` function in Python to find the `square roots` of the numbers in the list\n",
        "```\n",
        "list2 = [10, 22, 30, 44, 15, 26, 47, 18, 89, 110]\n",
        "```\n",
        "### using `math.sqrt`? Please give me the complete code."
      ],
      "metadata": {
        "id": "brYX3JGl10sx"
      }
    },
    {
      "cell_type": "code",
      "source": [
        "#map(lambda parameter: expression, iterable)\n",
        "list2 = [10, 22, 30, 44, 15, 26, 47, 18, 89, 110]\n",
        "list2 = list(map(lambda num: math.sqrt(num),list2))\n",
        "print(list2)"
      ],
      "metadata": {
        "colab": {
          "base_uri": "https://localhost:8080/"
        },
        "id": "ln9_JL0O2e42",
        "outputId": "ea63c873-9555-4f85-fc38-8a6309458426"
      },
      "execution_count": null,
      "outputs": [
        {
          "output_type": "stream",
          "name": "stdout",
          "text": [
            "[3.1622776601683795, 4.69041575982343, 5.477225575051661, 6.6332495807108, 3.872983346207417, 5.0990195135927845, 6.855654600401044, 4.242640687119285, 9.433981132056603, 10.488088481701515]\n"
          ]
        }
      ]
    },
    {
      "cell_type": "markdown",
      "source": [],
      "metadata": {
        "id": "0H9mWtrs2A_V"
      }
    },
    {
      "cell_type": "markdown",
      "source": [
        "### 6 How do you calculate the number of days between two dates, d1='2023-1-1' and d2='2026-8-8'? Provide the code."
      ],
      "metadata": {
        "id": "aR0b-ufk4nwc"
      }
    },
    {
      "cell_type": "code",
      "source": [
        "d1 = datetime.date(2025,5,5)\n",
        "d2 =datetime.date(2026,8,8)\n",
        "number_days = d2 - d1\n",
        "print(number_days.days)"
      ],
      "metadata": {
        "colab": {
          "base_uri": "https://localhost:8080/"
        },
        "id": "QBILWwfV4phj",
        "outputId": "1cfa262f-27d6-4343-f70d-a11aef26893f"
      },
      "execution_count": null,
      "outputs": [
        {
          "output_type": "stream",
          "name": "stdout",
          "text": [
            "460\n"
          ]
        }
      ]
    },
    {
      "cell_type": "markdown",
      "source": [
        "### 7 How can you add 18 days to the date d3=\"2025-5-5\" using timedelta? Show the code."
      ],
      "metadata": {
        "id": "VRCn544B46Hn"
      }
    },
    {
      "cell_type": "code",
      "source": [
        "d3 =datetime.date(2025,5,5)\n",
        "add_Days = d3 + datetime.timedelta(days=18)\n",
        "print(add_Days)"
      ],
      "metadata": {
        "colab": {
          "base_uri": "https://localhost:8080/"
        },
        "id": "-6XQRqHM5I_G",
        "outputId": "7c2db075-b9cc-4759-f4be-e8d9e622631e"
      },
      "execution_count": null,
      "outputs": [
        {
          "output_type": "stream",
          "name": "stdout",
          "text": [
            "2025-05-23\n"
          ]
        }
      ]
    },
    {
      "cell_type": "markdown",
      "source": [
        "### 8 How do you find the day name of the week for the date d4=\"2027-11-11\" using the weekday() method? Provide the code."
      ],
      "metadata": {
        "id": "j9ukW7KL5C7R"
      }
    },
    {
      "cell_type": "code",
      "source": [
        "d4 =datetime.date(2027,11,11)\n",
        "day = d4.weekday()\n",
        "\n",
        "Week = ['Monday','Tuesday','Wednesday','Thursday','Friday','Saturday','Sunday']\n",
        "\n",
        "print(Week[day])\n"
      ],
      "metadata": {
        "colab": {
          "base_uri": "https://localhost:8080/"
        },
        "id": "_tjwWwoI5GtR",
        "outputId": "0913b5b7-505d-4001-e7bd-e0dc255911e7"
      },
      "execution_count": null,
      "outputs": [
        {
          "output_type": "stream",
          "name": "stdout",
          "text": [
            "Thursday\n"
          ]
        }
      ]
    },
    {
      "cell_type": "code",
      "source": [
        "#another sol for 8 , we cab use strftime unsted which is easy\n",
        "d4 =datetime.date(2027,11,11)\n",
        "day = d4.weekday()\n",
        "\n",
        "print(calendar.day_name[day])\n"
      ],
      "metadata": {
        "colab": {
          "base_uri": "https://localhost:8080/"
        },
        "id": "VNw9YjGYDOcz",
        "outputId": "1f1924bd-30ea-4690-ac45-2c070bfd101e"
      },
      "execution_count": null,
      "outputs": [
        {
          "output_type": "stream",
          "name": "stdout",
          "text": [
            "Thursday\n"
          ]
        }
      ]
    }
  ]
}